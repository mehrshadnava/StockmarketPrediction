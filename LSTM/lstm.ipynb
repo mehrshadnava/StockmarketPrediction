{
 "cells": [
  {
   "cell_type": "markdown",
   "id": "322e8737",
   "metadata": {},
   "source": [
    "## 1_DATA_SET_PREPROCESSING"
   ]
  },
  {
   "cell_type": "code",
   "execution_count": 18,
   "id": "80710ffb",
   "metadata": {},
   "outputs": [],
   "source": [
    "#imports\n",
    "import numpy as np\n",
    "import pandas as pd\n",
    "import matplotlib as plt\n",
    "import ta "
   ]
  },
  {
   "cell_type": "code",
   "execution_count": 26,
   "id": "1910506a",
   "metadata": {},
   "outputs": [],
   "source": [
    "#load the dataset\n",
    "df = pd.read_csv(r'D:\\mehrs\\VSCodeProjects\\prediction\\Dataset\\BHAVCOPY_DATA.csv')\n",
    "df.dropna(inplace=True)\n",
    "df['BH_TIMESTAMP'] = pd.to_datetime(df['BH_TIMESTAMP'])\n",
    "df = df.sort_values(by=['BH_SYMBOL', 'BH_TIMESTAMP'])"
   ]
  },
  {
   "cell_type": "code",
   "execution_count": 27,
   "id": "22bd1524",
   "metadata": {},
   "outputs": [],
   "source": [
    "# feature engineering\n",
    "df['%Change_Open_Close'] = (df['BH_CLOSE']-df['BH_OPEN'])/df['BH_OPEN']\n",
    "df['Volatility_Day'] = (df['BH_HIGH']-df['BH_LOW'])/df['BH_OPEN']\n",
    "df['Gap_Up_Down'] = (df['BH_OPEN']-df['BH_PREVCLOSE'])/df['BH_PREVCLOSE']\n",
    "df['2d_Return'] = (df['BH_CLOSE'].shift(2)-df['BH_CLOSE'])/df['BH_CLOSE']\n",
    "\n",
    "# volumne and delivery based\n",
    "df['Volume_Spike'] = (df['DEL_QTY'])/df.groupby('BH_SYMBOL')['BH_TOTTRDQTY'].transform(lambda x: x.rolling(window=5, min_periods=1).mean())\n",
    "df['Delivery_Change'] = df.groupby('BH_SYMBOL')['DEL_TRADED_RATIO'].transform(lambda x: x.rolling(window=3, min_periods=1).mean())\n",
    "\n",
    "# Moving Averages\n",
    "df['MA_5'] = df.groupby('BH_SYMBOL')['BH_CLOSE'].transform(lambda x: x.rolling(window=5).mean())\n",
    "df['MA_10'] = df.groupby('BH_SYMBOL')['BH_CLOSE'].transform(lambda x: x.rolling(window=10).mean())\n",
    "df['MA_20'] = df.groupby('BH_SYMBOL')['BH_CLOSE'].transform(lambda x: x.rolling(window=20).mean())\n",
    "\n",
    "# RSI (14-day)\n",
    "df['RSI_14'] = df.groupby('BH_SYMBOL')['BH_CLOSE'].transform(lambda x: ta.momentum.RSIIndicator(x, window=14).rsi())\n",
    "\n",
    "# MACD (12, 26, 9)\n",
    "df['MACD'] = df.groupby('BH_SYMBOL')['BH_CLOSE'].transform(lambda x: ta.trend.MACD(x, window_slow=26, window_fast=12, window_sign=9).macd())\n",
    "df['MACD_signal'] = df.groupby('BH_SYMBOL')['BH_CLOSE'].transform(lambda x: ta.trend.MACD(x, window_slow=26, window_fast=12, window_sign=9).macd_signal())\n",
    "\n",
    "# Bollinger Bands (20d, 2 std)\n",
    "bb = df.groupby('BH_SYMBOL')['BH_CLOSE'].transform(lambda x: ta.volatility.BollingerBands(x, window=20, window_dev=2))\n",
    "df['BB_upper'] = df.groupby('BH_SYMBOL')['BH_CLOSE'].transform(lambda x: ta.volatility.BollingerBands(x, window=20, window_dev=2).bollinger_hband())\n",
    "df['BB_lower'] = df.groupby('BH_SYMBOL')['BH_CLOSE'].transform(lambda x: ta.volatility.BollingerBands(x, window=20, window_dev=2).bollinger_lband())\n",
    "df['BB_pct'] = (df['BH_CLOSE'] - df['BB_lower']) / (df['BB_upper'] - df['BB_lower'])"
   ]
  },
  {
   "cell_type": "code",
   "execution_count": 24,
   "id": "af0735a4",
   "metadata": {},
   "outputs": [],
   "source": [
    "# Simple target will price go up or down\n",
    "df['TARGET'] = df['BH_CLOSE'].shift(2)>df['BH_CLOSE']"
   ]
  },
  {
   "cell_type": "code",
   "execution_count": null,
   "id": "f45b6616",
   "metadata": {},
   "outputs": [],
   "source": [
    "# clean and sort data\n",
    "df.dropna(inplace=True)\n",
    "df = df.sort_values(by=['BH_SYMBOL', 'BH_TIMESTAMP']).reset_index(drop=True)"
   ]
  },
  {
   "cell_type": "markdown",
   "id": "6ae0dc7f",
   "metadata": {},
   "source": [
    "## 2_MODEL_TRAINING"
   ]
  },
  {
   "cell_type": "code",
   "execution_count": null,
   "id": "cead9bdb",
   "metadata": {},
   "outputs": [],
   "source": [
    "#imports\n",
    "import pandas as pd\n",
    "import numpy as np\n",
    "from sklearn.preprocessing import MinMaxScaler\n",
    "from sklearn.metrics import precision_score\n",
    "from sklearn.model_selection import train_test_split\n",
    "from keras.models import Sequential\n",
    "from keras.layers import LSTM, Dense, Dropout\n",
    "from keras.callbacks import EarlyStopping\n",
    "from tensorflow.python.client import device_lib"
   ]
  },
  {
   "cell_type": "code",
   "execution_count": null,
   "id": "e7fce487",
   "metadata": {},
   "outputs": [],
   "source": [
    "import tensorflow as tf\n",
    "print(\"Num GPUs Available:\", len(tf.config.list_physical_devices('GPU')))"
   ]
  },
  {
   "cell_type": "code",
   "execution_count": 35,
   "id": "c0ca620f",
   "metadata": {},
   "outputs": [],
   "source": [
    "# Define your predictors\n",
    "predictors = [\n",
    "    '%Change_Open_Close', 'Volatility_Day', 'Gap_Up_Down', 'Volume_Spike', 'Delivery_Change',\n",
    "    'MA_5', 'MA_10', 'MA_20', 'RSI_14', 'MACD', 'MACD_signal',\n",
    "    'BB_upper', 'BB_lower', 'BB_pct'\n",
    "]\n",
    "\n",
    "# Define target: probability of price going up after 2 days\n",
    "df['Target'] = (df['2d_Return'] > 0).astype(int)  # Binary for now\n"
   ]
  },
  {
   "cell_type": "code",
   "execution_count": 36,
   "id": "75946716",
   "metadata": {},
   "outputs": [],
   "source": [
    "#drop NaNs snad scale\n",
    "df.dropna(subset=predictors + ['Target'], inplace=True)\n",
    "\n",
    "# Normalize features\n",
    "scaler = MinMaxScaler()\n",
    "scaled_features = scaler.fit_transform(df[predictors])"
   ]
  },
  {
   "cell_type": "code",
   "execution_count": 37,
   "id": "9b92d54e",
   "metadata": {},
   "outputs": [],
   "source": [
    "def create_sequences(data, target, window_size=10):\n",
    "    X, y = [], []\n",
    "    for i in range(window_size, len(data)):\n",
    "        X.append(data[i-window_size:i])\n",
    "        y.append(target[i])\n",
    "    return np.array(X), np.array(y)\n",
    "\n",
    "X, y = create_sequences(scaled_features, df['Target'].values)\n"
   ]
  },
  {
   "cell_type": "code",
   "execution_count": 38,
   "id": "7c67b5db",
   "metadata": {},
   "outputs": [],
   "source": [
    "# 80% Train, 10% Validation, 10% Test\n",
    "train_size = int(len(X) * 0.8)\n",
    "val_size = int(len(X) * 0.1)\n",
    "\n",
    "X_train, y_train = X[:train_size], y[:train_size]\n",
    "X_val, y_val = X[train_size:train_size+val_size], y[train_size:train_size+val_size]\n",
    "X_test, y_test = X[train_size+val_size:], y[train_size+val_size:]\n"
   ]
  },
  {
   "cell_type": "code",
   "execution_count": 39,
   "id": "0acd67e7",
   "metadata": {},
   "outputs": [],
   "source": [
    "model = Sequential()\n",
    "model.add(LSTM(units=64, return_sequences=True, input_shape=(X_train.shape[1], X_train.shape[2])))\n",
    "model.add(Dropout(0.2))\n",
    "model.add(LSTM(units=32))\n",
    "model.add(Dropout(0.2))\n",
    "model.add(Dense(1, activation='sigmoid'))\n",
    "\n",
    "model.compile(loss='binary_crossentropy', optimizer='adam', metrics=['accuracy'])\n"
   ]
  },
  {
   "cell_type": "code",
   "execution_count": 40,
   "id": "fe44f50f",
   "metadata": {},
   "outputs": [
    {
     "name": "stdout",
     "output_type": "stream",
     "text": [
      "Epoch 1/50\n",
      "3632/3632 [==============================] - 49s 11ms/step - loss: 0.5551 - accuracy: 0.6975 - val_loss: 0.4934 - val_accuracy: 0.7630\n",
      "Epoch 2/50\n",
      "3632/3632 [==============================] - 41s 11ms/step - loss: 0.4947 - accuracy: 0.7629 - val_loss: 0.4903 - val_accuracy: 0.7631\n",
      "Epoch 3/50\n",
      "3632/3632 [==============================] - 44s 12ms/step - loss: 0.4887 - accuracy: 0.7648 - val_loss: 0.4869 - val_accuracy: 0.7666\n",
      "Epoch 4/50\n",
      "3632/3632 [==============================] - 46s 13ms/step - loss: 0.4855 - accuracy: 0.7675 - val_loss: 0.4837 - val_accuracy: 0.7677\n",
      "Epoch 5/50\n",
      "3632/3632 [==============================] - 42s 12ms/step - loss: 0.4823 - accuracy: 0.7701 - val_loss: 0.4833 - val_accuracy: 0.7671\n",
      "Epoch 6/50\n",
      "3632/3632 [==============================] - 41s 11ms/step - loss: 0.4789 - accuracy: 0.7716 - val_loss: 0.4830 - val_accuracy: 0.7666\n",
      "Epoch 7/50\n",
      "3632/3632 [==============================] - 42s 12ms/step - loss: 0.4764 - accuracy: 0.7733 - val_loss: 0.4786 - val_accuracy: 0.7709\n",
      "Epoch 8/50\n",
      "3632/3632 [==============================] - 42s 12ms/step - loss: 0.4733 - accuracy: 0.7750 - val_loss: 0.4802 - val_accuracy: 0.7689\n",
      "Epoch 9/50\n",
      "3632/3632 [==============================] - 42s 12ms/step - loss: 0.4705 - accuracy: 0.7768 - val_loss: 0.4748 - val_accuracy: 0.7730\n",
      "Epoch 10/50\n",
      "3632/3632 [==============================] - 42s 12ms/step - loss: 0.4681 - accuracy: 0.7784 - val_loss: 0.4732 - val_accuracy: 0.7756\n",
      "Epoch 11/50\n",
      "3632/3632 [==============================] - 43s 12ms/step - loss: 0.4661 - accuracy: 0.7789 - val_loss: 0.4734 - val_accuracy: 0.7720\n",
      "Epoch 12/50\n",
      "3632/3632 [==============================] - 43s 12ms/step - loss: 0.4642 - accuracy: 0.7807 - val_loss: 0.4706 - val_accuracy: 0.7741\n",
      "Epoch 13/50\n",
      "3632/3632 [==============================] - 42s 12ms/step - loss: 0.4620 - accuracy: 0.7825 - val_loss: 0.4728 - val_accuracy: 0.7733\n",
      "Epoch 14/50\n",
      "3632/3632 [==============================] - 44s 12ms/step - loss: 0.4598 - accuracy: 0.7828 - val_loss: 0.4656 - val_accuracy: 0.7773\n",
      "Epoch 15/50\n",
      "3632/3632 [==============================] - 44s 12ms/step - loss: 0.4578 - accuracy: 0.7853 - val_loss: 0.4691 - val_accuracy: 0.7756\n",
      "Epoch 16/50\n",
      "3632/3632 [==============================] - 45s 12ms/step - loss: 0.4558 - accuracy: 0.7857 - val_loss: 0.4630 - val_accuracy: 0.7805\n",
      "Epoch 17/50\n",
      "3632/3632 [==============================] - 43s 12ms/step - loss: 0.4542 - accuracy: 0.7866 - val_loss: 0.4622 - val_accuracy: 0.7812\n",
      "Epoch 18/50\n",
      "3632/3632 [==============================] - 44s 12ms/step - loss: 0.4527 - accuracy: 0.7878 - val_loss: 0.4605 - val_accuracy: 0.7817\n",
      "Epoch 19/50\n",
      "3632/3632 [==============================] - 43s 12ms/step - loss: 0.4512 - accuracy: 0.7885 - val_loss: 0.4613 - val_accuracy: 0.7823\n",
      "Epoch 20/50\n",
      "3632/3632 [==============================] - 44s 12ms/step - loss: 0.4494 - accuracy: 0.7895 - val_loss: 0.4571 - val_accuracy: 0.7822\n",
      "Epoch 21/50\n",
      "3632/3632 [==============================] - 45s 13ms/step - loss: 0.4481 - accuracy: 0.7907 - val_loss: 0.4600 - val_accuracy: 0.7823\n",
      "Epoch 22/50\n",
      "3632/3632 [==============================] - 44s 12ms/step - loss: 0.4472 - accuracy: 0.7913 - val_loss: 0.4585 - val_accuracy: 0.7837\n",
      "Epoch 23/50\n",
      "3632/3632 [==============================] - 44s 12ms/step - loss: 0.4452 - accuracy: 0.7919 - val_loss: 0.4552 - val_accuracy: 0.7842\n",
      "Epoch 24/50\n",
      "3632/3632 [==============================] - 45s 13ms/step - loss: 0.4437 - accuracy: 0.7927 - val_loss: 0.4550 - val_accuracy: 0.7835\n",
      "Epoch 25/50\n",
      "3632/3632 [==============================] - 47s 13ms/step - loss: 0.4429 - accuracy: 0.7934 - val_loss: 0.4561 - val_accuracy: 0.7837\n",
      "Epoch 26/50\n",
      "3632/3632 [==============================] - 47s 13ms/step - loss: 0.4412 - accuracy: 0.7941 - val_loss: 0.4549 - val_accuracy: 0.7852\n",
      "Epoch 27/50\n",
      "3632/3632 [==============================] - 48s 13ms/step - loss: 0.4406 - accuracy: 0.7952 - val_loss: 0.4530 - val_accuracy: 0.7857\n",
      "Epoch 28/50\n",
      "3632/3632 [==============================] - 47s 13ms/step - loss: 0.4397 - accuracy: 0.7962 - val_loss: 0.4501 - val_accuracy: 0.7880\n",
      "Epoch 29/50\n",
      "3632/3632 [==============================] - 46s 13ms/step - loss: 0.4386 - accuracy: 0.7957 - val_loss: 0.4532 - val_accuracy: 0.7851\n",
      "Epoch 30/50\n",
      "3632/3632 [==============================] - 45s 12ms/step - loss: 0.4376 - accuracy: 0.7967 - val_loss: 0.4523 - val_accuracy: 0.7858\n",
      "Epoch 31/50\n",
      "3632/3632 [==============================] - 46s 13ms/step - loss: 0.4362 - accuracy: 0.7980 - val_loss: 0.4531 - val_accuracy: 0.7862\n",
      "Epoch 32/50\n",
      "3632/3632 [==============================] - 47s 13ms/step - loss: 0.4352 - accuracy: 0.7980 - val_loss: 0.4512 - val_accuracy: 0.7868\n",
      "Epoch 33/50\n",
      "3632/3632 [==============================] - 46s 13ms/step - loss: 0.4345 - accuracy: 0.7986 - val_loss: 0.4484 - val_accuracy: 0.7904\n",
      "Epoch 34/50\n",
      "3632/3632 [==============================] - 46s 13ms/step - loss: 0.4333 - accuracy: 0.7996 - val_loss: 0.4511 - val_accuracy: 0.7863\n",
      "Epoch 35/50\n",
      "3632/3632 [==============================] - 47s 13ms/step - loss: 0.4327 - accuracy: 0.7999 - val_loss: 0.4506 - val_accuracy: 0.7869\n",
      "Epoch 36/50\n",
      "3632/3632 [==============================] - 46s 13ms/step - loss: 0.4317 - accuracy: 0.8000 - val_loss: 0.4505 - val_accuracy: 0.7879\n",
      "Epoch 37/50\n",
      "3632/3632 [==============================] - 47s 13ms/step - loss: 0.4306 - accuracy: 0.8004 - val_loss: 0.4507 - val_accuracy: 0.7871\n",
      "Epoch 38/50\n",
      "3632/3632 [==============================] - 47s 13ms/step - loss: 0.4305 - accuracy: 0.8014 - val_loss: 0.4511 - val_accuracy: 0.7855\n"
     ]
    },
    {
     "data": {
      "text/plain": [
       "<keras.callbacks.History at 0x2ae962e97b0>"
      ]
     },
     "execution_count": 40,
     "metadata": {},
     "output_type": "execute_result"
    }
   ],
   "source": [
    "\n",
    "print(device_lib.list_local_devices())\n",
    "\n",
    "early_stop = EarlyStopping(monitor='val_loss', patience=5, restore_best_weights=True)\n",
    "\n",
    "model.fit(X_train, y_train, validation_data=(X_val, y_val),\n",
    "          epochs=50, batch_size=64, callbacks=[early_stop])\n"
   ]
  },
  {
   "cell_type": "code",
   "execution_count": 41,
   "id": "1fd9630d",
   "metadata": {},
   "outputs": [
    {
     "name": "stderr",
     "output_type": "stream",
     "text": [
      "WARNING:absl:Found untraced functions such as lstm_cell_layer_call_fn, lstm_cell_layer_call_and_return_conditional_losses, lstm_cell_1_layer_call_fn, lstm_cell_1_layer_call_and_return_conditional_losses while saving (showing 4 of 4). These functions will not be directly callable after loading.\n"
     ]
    },
    {
     "name": "stdout",
     "output_type": "stream",
     "text": [
      "INFO:tensorflow:Assets written to: lstm_model\\assets\n"
     ]
    },
    {
     "name": "stderr",
     "output_type": "stream",
     "text": [
      "INFO:tensorflow:Assets written to: lstm_model\\assets\n"
     ]
    }
   ],
   "source": [
    "model.save('lstm_model')"
   ]
  },
  {
   "cell_type": "code",
   "execution_count": 42,
   "id": "5ba8c57d",
   "metadata": {},
   "outputs": [
    {
     "name": "stdout",
     "output_type": "stream",
     "text": [
      "908/908 [==============================] - 4s 4ms/step\n",
      "Precision Score: 0.7873\n"
     ]
    }
   ],
   "source": [
    "y_pred_proba = model.predict(X_test)\n",
    "y_pred = (y_pred_proba > 0.5).astype(int)\n",
    "\n",
    "precision = precision_score(y_test, y_pred)\n",
    "print(f\"Precision Score: {precision:.4f}\")\n"
   ]
  },
  {
   "cell_type": "code",
   "execution_count": 43,
   "id": "55e2a71e",
   "metadata": {},
   "outputs": [
    {
     "name": "stdout",
     "output_type": "stream",
     "text": [
      "   Actual  Predicted_Class  Predicted_Prob\n",
      "0       0                0        0.011363\n",
      "1       0                0        0.127538\n",
      "2       0                0        0.040892\n",
      "3       1                1        0.542518\n",
      "4       1                1        0.950686\n",
      "5       0                0        0.280021\n",
      "6       0                0        0.214639\n",
      "7       0                0        0.190380\n",
      "8       0                0        0.064768\n",
      "9       0                0        0.061640\n"
     ]
    }
   ],
   "source": [
    "df_predictions = pd.DataFrame({\n",
    "    'Actual': y_test,\n",
    "    'Predicted_Class': y_pred.flatten(),\n",
    "    'Predicted_Prob': y_pred_proba.flatten()\n",
    "})\n",
    "\n",
    "print(df_predictions.head(10))\n"
   ]
  }
 ],
 "metadata": {
  "kernelspec": {
   "display_name": "py310",
   "language": "python",
   "name": "python3"
  },
  "language_info": {
   "codemirror_mode": {
    "name": "ipython",
    "version": 3
   },
   "file_extension": ".py",
   "mimetype": "text/x-python",
   "name": "python",
   "nbconvert_exporter": "python",
   "pygments_lexer": "ipython3",
   "version": "3.10.16"
  }
 },
 "nbformat": 4,
 "nbformat_minor": 5
}
